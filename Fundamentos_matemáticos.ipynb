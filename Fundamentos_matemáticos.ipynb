{
  "nbformat": 4,
  "nbformat_minor": 0,
  "metadata": {
    "colab": {
      "provenance": [],
      "authorship_tag": "ABX9TyMRqlZNrnJiYKLMQlXNZ9xn",
      "include_colab_link": true
    },
    "kernelspec": {
      "name": "python3",
      "display_name": "Python 3"
    },
    "language_info": {
      "name": "python"
    }
  },
  "cells": [
    {
      "cell_type": "markdown",
      "metadata": {
        "id": "view-in-github",
        "colab_type": "text"
      },
      "source": [
        "<a href=\"https://colab.research.google.com/github/tarabelo/2024-VIU-Quantum/blob/main/Fundamentos_matem%C3%A1ticos.ipynb\" target=\"_parent\"><img src=\"https://colab.research.google.com/assets/colab-badge.svg\" alt=\"Open In Colab\"/></a>"
      ]
    },
    {
      "cell_type": "markdown",
      "source": [
        "# Fundamentos matemáticos\n",
        "\n",
        "### Contenidos\n",
        "\n",
        "1. [Números complejos](#complejos)\n",
        "1. [Espacios de Hilbert](#espacios)\n",
        "1. [Operadores lineales y matrices](#operadores)\n",
        "1. [Autovalores y autovectores](#autovalores)"
      ],
      "metadata": {
        "id": "T3pg_NkEY4S2"
      }
    },
    {
      "cell_type": "markdown",
      "source": [
        "## Números complejos<a id=\"complejos\"></a>\n",
        "\n",
        "Números de la forma $a=a_r+ia_i$, con $i=\\sqrt{-1}$ y:\n",
        "\n",
        "- $a_r$ componente real, $a_r = \\Re(a)$\n",
        "- $a_i$ componente imaginaria, $a_i = \\Im(a)$\n",
        "\n",
        "con $a_r, a_i \\in \\mathbb{R}$\n",
        "\n",
        "El conjunto de los números complejos se denota por $\\mathbb{C}$. Resulta evidente que $\\mathbb{R}\\subset \\mathbb{C}$."
      ],
      "metadata": {
        "id": "G5V4VVu_ZPjQ"
      }
    },
    {
      "cell_type": "markdown",
      "source": [
        "### Operaciones con complejos\n",
        "\n",
        "Sean $a,b \\in \\mathbb{C}$, $a=a_r+ia_i$ $b=b_r+ib_i$\n",
        "\n",
        "#### Suma\n",
        "$$\n",
        "a+b = (a_r+b_r)+i(a_i+b_i) \\in \\mathbb{C}\n",
        "$$\n",
        "\n",
        "#### Producto\n",
        "Recordando que $i^2=-1$:\n",
        "$$\n",
        "a b = (a_r+ia_i)(b_r+ib_i)=(a_rb_r-a_ib_i)+i(a_rb_i+a_ib_r) \\in \\mathbb{C}\n",
        "$$\n",
        "\n",
        "#### Conjugado\n",
        "$$\n",
        "a^* = a_r-ia_i  \\in \\mathbb{C}\n",
        "$$\n",
        "\n",
        "#### Norma (o módulo)\n",
        "$$\n",
        "|a|^2 = a^*a = (a_r-ia_i)(a_r+ia_i) = a_r^2+ia_ra_i-ia_ia_r+a_i^2 = a_r^2 + a_i^2 \\Rightarrow |a| = +\\sqrt{a_r^2 + a_i^2} \\in \\mathbb{R}\n",
        "$$\n",
        "\n",
        "#### División\n",
        "$$\n",
        "\\frac{a}{b} = \\frac{ab^*}{bb^*} = \\frac{(a_r+ia_i)(b_r-ib_i)}{|b|^2} = \\frac{(a_rb_r+a_ib_i)+i(a_ib_r-a_rb_i)}{|b|^2} \\in \\mathbb{C}\n",
        "$$"
      ],
      "metadata": {
        "id": "nLGzS5kcZYhD"
      }
    },
    {
      "cell_type": "markdown",
      "source": [
        "### Números complejos en *Python*"
      ],
      "metadata": {
        "id": "nx5LV2ybZeAi"
      }
    },
    {
      "cell_type": "code",
      "source": [
        "# Operaciones simples\n",
        "a = 2 - 1j\n",
        "b = 5 + 2j\n",
        "\n",
        "print(f\"Re{a}={a.real}, Im{a}={a.imag}\\n\")\n",
        "print(f\"{a}* = {a.conjugate()}\\n\")\n",
        "print(f\"{a}*{b} = {a*b}\\n\")\n",
        "print(f\"|{a}| = {abs(a)}\\n\")\n",
        "print(f\"{a}/{b}={a/b}\")"
      ],
      "metadata": {
        "colab": {
          "base_uri": "https://localhost:8080/"
        },
        "id": "HoPvRzkvZKHB",
        "outputId": "0ef80db7-eff5-4fb5-fb22-8666fe4c119a"
      },
      "execution_count": 2,
      "outputs": [
        {
          "output_type": "stream",
          "name": "stdout",
          "text": [
            "Re(2-1j)=2.0, Im(2-1j)=-1.0\n",
            "\n",
            "(2-1j)* = (2+1j)\n",
            "\n",
            "(2-1j)*(5+2j) = (12-1j)\n",
            "\n",
            "|(2-1j)| = 2.23606797749979\n",
            "\n",
            "(2-1j)/(5+2j)=(0.27586206896551724-0.3103448275862069j)\n"
          ]
        }
      ]
    },
    {
      "cell_type": "markdown",
      "source": [
        "### Forma polar\n",
        "\n",
        "[Formula de Euler](https://en.wikipedia.org/wiki/Euler%27s_formula): $e^{i\\theta} = \\cos\\theta + i\\sin\\theta$ con $\\theta\\in \\mathbb{R}$ denominada *fase*\n",
        "\n",
        "<center><img src=\"https://drive.google.com/uc?id=1KW-kzQTNNFaRHLa8OcOi6exqERclfZEA\" alt=\"Forma polar de un número complejo\" width=\"600\"  /></center>\n",
        "\n",
        "Notar también que $e^{i\\theta} = e^{i(\\theta+2k\\pi)}$ con $k\\in \\mathbb{Z}$\n",
        "\n",
        "**Ejemplos**\n",
        "\n",
        "- $e^{i0} = \\cos 0 + i\\sin 0 = 1$\n",
        "<p></p>\n",
        "- $e^{i2\\pi} = \\cos(2\\pi) + i\\sin(2\\pi) = 1$\n",
        "<p></p>\n",
        "- $e^{\\pm i\\pi} = \\cos(\\pm\\pi) + i\\sin(\\pm\\pi) = -1$\n",
        "<p></p>\n",
        "- $e^{i\\pi/2} = \\cos(\\pi/2) + i\\sin(\\pi/2) = i$\n",
        "<p></p>\n",
        "- $e^{-i\\pi/2} = \\cos(-\\pi/2) + i\\sin(-\\pi/2) = -i$\n",
        "<p></p>\n",
        "- $e^{i\\pi/4} = \\cos(\\pi/4) + i\\sin(\\pi/4) = \\tfrac{1}{\\sqrt{2}}(1+i)$\n",
        "<p></p>\n",
        "- $e^{-i\\pi/4} = \\cos(-\\pi/4) + i\\sin(-\\pi/4) = \\tfrac{1}{\\sqrt{2}}(1-i)$\n",
        "\n",
        "#### Operaciones en forma polar\n",
        "Sean $a,b \\in \\mathbb{C}$, $a=|a|e^{i\\theta}$, $b=|b|e^{i\\varphi}$, con $|a|, |b|, \\theta, \\varphi \\in \\mathbb{R}$.\n",
        "\n",
        "\n",
        "#### Producto\n",
        "$$\n",
        "a b = |a||b|e^{i(\\theta+\\varphi)} = |ab| (\\cos(\\theta+\\varphi)+i\\sin(\\theta+\\varphi))\n",
        "$$\n",
        "\n",
        "#### Conjugado\n",
        "$$\n",
        "a^* = |a|e^{-i\\theta} = |a| (\\cos\\theta - i\\sin\\theta)\n",
        "$$\n",
        "\n",
        "#### División\n",
        "$$\n",
        "\\frac{a}{b} = \\frac{|a|}{|b|}e^{i(\\theta-\\varphi)} = \\frac{|a|}{|b|}(\\cos(\\theta-\\varphi)+i\\sin(\\theta-\\varphi))\n",
        "$$\n",
        "\n",
        "#### Potencia\n",
        "$$\n",
        "a^n = |a|^ne^{in\\theta} = |a|^n (\\cos(n\\theta) - i\\sin(n\\theta))\n",
        "$$\n",
        "\n",
        "#### Exponenciación\n",
        "$$\n",
        "e^{(x+yi)} = e^xe^{iy} = e^x(\\cos(y)+i\\sin(y))\n",
        "$$\n",
        "\n",
        "#### Raíces\n",
        "$$\n",
        "\\sqrt[n]{a} = a^\\frac{1}{n} = |a|^\\frac{1}{n}e^{i\\frac{\\theta+2k\\pi}{n}}\n",
        "$$"
      ],
      "metadata": {
        "id": "NMy4jJbXZ1nK"
      }
    },
    {
      "cell_type": "markdown",
      "source": [],
      "metadata": {
        "id": "zu73vMlZdhot"
      }
    },
    {
      "cell_type": "code",
      "source": [],
      "metadata": {
        "id": "gfl6NARNZwYz"
      },
      "execution_count": null,
      "outputs": []
    }
  ]
}